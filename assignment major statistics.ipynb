{
 "cells": [
  {
   "cell_type": "code",
   "execution_count": 1,
   "id": "7dd80901",
   "metadata": {},
   "outputs": [
    {
     "name": "stdout",
     "output_type": "stream",
     "text": [
      "Requirement already satisfied: scipy in d:\\users\\lenovo\\anaconda3\\lib\\site-packages (1.7.3)\n",
      "Requirement already satisfied: numpy<1.23.0,>=1.16.5 in d:\\users\\lenovo\\anaconda3\\lib\\site-packages (from scipy) (1.21.5)\n",
      "Note: you may need to restart the kernel to use updated packages.\n"
     ]
    }
   ],
   "source": [
    "%pip install scipy"
   ]
  },
  {
   "cell_type": "code",
   "execution_count": 2,
   "id": "cf1ac901",
   "metadata": {},
   "outputs": [],
   "source": [
    "import numpy as np\n",
    "\n",
    "import pandas as pd\n",
    "\n",
    "import matplotlib.pyplot as plt\n",
    "\n",
    "%matplotlib inline\n",
    "import statistics as stats\n",
    "\n",
    "from scipy.stats import norm\n",
    "\n",
    "import random\n"
   ]
  },
  {
   "cell_type": "code",
   "execution_count": 3,
   "id": "f98de902",
   "metadata": {},
   "outputs": [
    {
     "name": "stdout",
     "output_type": "stream",
     "text": [
      "<class 'pandas.core.frame.DataFrame'>\n"
     ]
    },
    {
     "data": {
      "text/html": [
       "<div>\n",
       "<style scoped>\n",
       "    .dataframe tbody tr th:only-of-type {\n",
       "        vertical-align: middle;\n",
       "    }\n",
       "\n",
       "    .dataframe tbody tr th {\n",
       "        vertical-align: top;\n",
       "    }\n",
       "\n",
       "    .dataframe thead th {\n",
       "        text-align: right;\n",
       "    }\n",
       "</style>\n",
       "<table border=\"1\" class=\"dataframe\">\n",
       "  <thead>\n",
       "    <tr style=\"text-align: right;\">\n",
       "      <th></th>\n",
       "      <th>Gender</th>\n",
       "      <th>Carrier</th>\n",
       "      <th>Type</th>\n",
       "      <th>Usage</th>\n",
       "      <th>Signal strength</th>\n",
       "      <th>Value for the Dollar</th>\n",
       "      <th>Customer Service</th>\n",
       "    </tr>\n",
       "  </thead>\n",
       "  <tbody>\n",
       "    <tr>\n",
       "      <th>0</th>\n",
       "      <td>M</td>\n",
       "      <td>AT&amp;T</td>\n",
       "      <td>Smart</td>\n",
       "      <td>High</td>\n",
       "      <td>5</td>\n",
       "      <td>4</td>\n",
       "      <td>4</td>\n",
       "    </tr>\n",
       "    <tr>\n",
       "      <th>1</th>\n",
       "      <td>M</td>\n",
       "      <td>AT&amp;T</td>\n",
       "      <td>Smart</td>\n",
       "      <td>High</td>\n",
       "      <td>5</td>\n",
       "      <td>4</td>\n",
       "      <td>2</td>\n",
       "    </tr>\n",
       "    <tr>\n",
       "      <th>2</th>\n",
       "      <td>M</td>\n",
       "      <td>AT&amp;T</td>\n",
       "      <td>Smart</td>\n",
       "      <td>Average</td>\n",
       "      <td>4</td>\n",
       "      <td>4</td>\n",
       "      <td>4</td>\n",
       "    </tr>\n",
       "    <tr>\n",
       "      <th>3</th>\n",
       "      <td>M</td>\n",
       "      <td>AT&amp;T</td>\n",
       "      <td>Smart</td>\n",
       "      <td>Very high</td>\n",
       "      <td>2</td>\n",
       "      <td>3</td>\n",
       "      <td>3</td>\n",
       "    </tr>\n",
       "    <tr>\n",
       "      <th>4</th>\n",
       "      <td>M</td>\n",
       "      <td>AT&amp;T</td>\n",
       "      <td>Smart</td>\n",
       "      <td>Very high</td>\n",
       "      <td>5</td>\n",
       "      <td>5</td>\n",
       "      <td>2</td>\n",
       "    </tr>\n",
       "  </tbody>\n",
       "</table>\n",
       "</div>"
      ],
      "text/plain": [
       "  Gender Carrier   Type      Usage  Signal strength  Value for the Dollar  \\\n",
       "0      M    AT&T  Smart       High                5                     4   \n",
       "1      M    AT&T  Smart       High                5                     4   \n",
       "2      M    AT&T  Smart    Average                4                     4   \n",
       "3      M    AT&T  Smart  Very high                2                     3   \n",
       "4      M    AT&T  Smart  Very high                5                     5   \n",
       "\n",
       "   Customer Service  \n",
       "0                 4  \n",
       "1                 2  \n",
       "2                 4  \n",
       "3                 3  \n",
       "4                 2  "
      ]
     },
     "execution_count": 3,
     "metadata": {},
     "output_type": "execute_result"
    }
   ],
   "source": [
    "df = pd.read_csv('Cell Phone Survey.csv')\n",
    "\n",
    "print(type(df))\n",
    "\n",
    "df.head()  "
   ]
  },
  {
   "cell_type": "code",
   "execution_count": 4,
   "id": "2436ff1e",
   "metadata": {},
   "outputs": [
    {
     "name": "stdout",
     "output_type": "stream",
     "text": [
      "Mean of Signal strength column is 3.3076923076923075\n"
     ]
    }
   ],
   "source": [
    "df_mean = df['Signal strength'].mean()\n",
    "print(\"Mean of Signal strength column is\" ,df_mean)"
   ]
  },
  {
   "cell_type": "code",
   "execution_count": 5,
   "id": "b7c6f7a7",
   "metadata": {},
   "outputs": [
    {
     "name": "stdout",
     "output_type": "stream",
     "text": [
      "Median of Customer Service column is 3.0\n"
     ]
    }
   ],
   "source": [
    "df_Median = df['Customer Service'].median()\n",
    "print(\"Median of Customer Service column is\" ,df_Median)"
   ]
  },
  {
   "cell_type": "code",
   "execution_count": 6,
   "id": "1304ce05",
   "metadata": {},
   "outputs": [
    {
     "name": "stdout",
     "output_type": "stream",
     "text": [
      "Mode of Signal strength column is 0    3\n",
      "Name: Signal strength, dtype: int64\n"
     ]
    }
   ],
   "source": [
    "df_Mode = df['Signal strength'].mode()\n",
    "print(\"Mode of Signal strength column is\" ,df_Mode)"
   ]
  },
  {
   "cell_type": "code",
   "execution_count": 7,
   "id": "dbd0b41c",
   "metadata": {},
   "outputs": [
    {
     "name": "stdout",
     "output_type": "stream",
     "text": [
      "Standard deviation of Customer Service column is 0.9623375261979594\n"
     ]
    }
   ],
   "source": [
    "df_stdev = df['Customer Service'].std()\n",
    "print(\"Standard deviation of Customer Service column is\" ,df_stdev)"
   ]
  },
  {
   "cell_type": "code",
   "execution_count": 36,
   "id": "aa12497c-6597-4d1e-b709-0d313830435a",
   "metadata": {},
   "outputs": [
    {
     "name": "stdout",
     "output_type": "stream",
     "text": [
      "Variance of Customer Service column is 0.9260935143288083\n"
     ]
    }
   ],
   "source": [
    "df_Variance = df['Customer Service'].var()\n",
    "print(\"Variance of Customer Service column is\" ,df_Variance)"
   ]
  },
  {
   "cell_type": "code",
   "execution_count": 39,
   "id": "d12082c9-8d2d-4df8-897b-f39545f0f3aa",
   "metadata": {},
   "outputs": [
    {
     "name": "stdout",
     "output_type": "stream",
     "text": [
      "df_percentile_25: 3.0\n",
      "df_percentile_75: 4.0\n"
     ]
    }
   ],
   "source": [
    "df_col = df['Value for the Dollar']\n",
    "df_percentile_25 = np.percentile(df_col, 25)\n",
    "df_percentile_75 = np.percentile(df_col, 75)\n",
    "print(\"df_percentile_25:\",df_percentile_25)\n",
    "print(\"df_percentile_75:\",df_percentile_75)"
   ]
  },
  {
   "cell_type": "code",
   "execution_count": 40,
   "id": "43b932a5-6e05-402e-8bf2-4d60444e5775",
   "metadata": {},
   "outputs": [
    {
     "name": "stdout",
     "output_type": "stream",
     "text": [
      "Range of Value for the Dollar column is 4\n"
     ]
    }
   ],
   "source": [
    "df_range = df['Value for the Dollar'].max() - df['Value for the Dollar'].min()\n",
    "\n",
    "print(\"Range of Value for the Dollar column is\" ,df_range)"
   ]
  },
  {
   "cell_type": "code",
   "execution_count": 41,
   "id": "2a841a30-97f8-4648-80d4-e726e85a9458",
   "metadata": {},
   "outputs": [
    {
     "name": "stdout",
     "output_type": "stream",
     "text": [
      "InterQuartile Range of Value for the Dollar column is 1.0\n"
     ]
    }
   ],
   "source": [
    "df_IQR = df_percentile_75 - df_percentile_25\n",
    "print(\"InterQuartile Range of Value for the Dollar column is\" ,df_IQR)"
   ]
  },
  {
   "cell_type": "code",
   "execution_count": null,
   "id": "5b8694ce-7dc5-45bf-aa29-50cea14f6e65",
   "metadata": {},
   "outputs": [],
   "source": []
  }
 ],
 "metadata": {
  "kernelspec": {
   "display_name": "Python 3 (ipykernel)",
   "language": "python",
   "name": "python3"
  },
  "language_info": {
   "codemirror_mode": {
    "name": "ipython",
    "version": 3
   },
   "file_extension": ".py",
   "mimetype": "text/x-python",
   "name": "python",
   "nbconvert_exporter": "python",
   "pygments_lexer": "ipython3",
   "version": "3.9.12"
  }
 },
 "nbformat": 4,
 "nbformat_minor": 5
}
